{
 "cells": [
  {
   "cell_type": "code",
   "execution_count": 227,
   "metadata": {},
   "outputs": [],
   "source": [
    "import tensorflow as tf\n",
    "import DataSets as ds\n",
    "import numpy as np\n",
    "import Layers\n",
    "import matplotlib.pyplot as plt\n",
    "import os\n",
    "import cv2\n",
    "from sklearn.preprocessing import StandardScaler\n",
    "os.environ['TF_CPP_MIN_LOG_LEVEL'] = '2'\n",
    "\n",
    "LoadModel = False"
   ]
  },
  {
   "cell_type": "code",
   "execution_count": 15,
   "metadata": {},
   "outputs": [
    {
     "name": "stdout",
     "output_type": "stream",
     "text": [
      "nb data =  100000\n",
      "nb data =  10000\n"
     ]
    }
   ],
   "source": [
    "experiment_size = 100\n",
    "train = ds.DataSet('Databases/data_%dk.bin'%experiment_size,'Databases/gender_%dk.bin'%experiment_size,1000*experiment_size)\n",
    "test = ds.DataSet('Databases/data_test10k.bin','Databases/gender_test10k.bin',10000)"
   ]
  },
  {
   "cell_type": "code",
   "execution_count": 285,
   "metadata": {},
   "outputs": [],
   "source": [
    "class ConvNeuralNet(tf.Module):\n",
    "    def __init__(self):\n",
    "        self.unflat = Layers.unflat('unflat',48, 48, 1)\n",
    "        self.cv1 = Layers.conv('conv_1', output_dim=3, filterSize=3, stride=1)\n",
    "        self.mp = Layers.maxpool('pool', 2)\n",
    "        self.cv2 = Layers.conv('conv_2', output_dim=6, filterSize=3, stride=1)\n",
    "        self.cv3 = Layers.conv('conv_3', output_dim=12, filterSize=3, stride=1)\n",
    "        self.flat = Layers.flat()\n",
    "        self.fc = Layers.fc('fc', 2)\n",
    "        \n",
    "    def __call__(self, x, log_summary):\n",
    "        x = self.unflat(x, log_summary)\n",
    "        x = self.cv1(x, log_summary)\n",
    "        x = self.mp(x)\n",
    "        x = self.cv2(x, log_summary)\n",
    "        x = self.mp(x)\n",
    "        x = self.cv3(x, log_summary)\n",
    "        x = self.mp(x)\n",
    "        x = self.flat(x)\n",
    "        x = self.fc(x, log_summary)\n",
    "        return x  \n",
    "    "
   ]
  },
  {
   "cell_type": "code",
   "execution_count": 286,
   "metadata": {},
   "outputs": [],
   "source": [
    "def train_one_iter(model, optimizer, image, label, log_summary):\n",
    "    with tf.GradientTape() as tape:\n",
    "        y = model(image,log_summary)\n",
    "        y = tf.nn.log_softmax(y)\n",
    "        diff = label * y\n",
    "        loss = -tf.reduce_sum(diff)\n",
    "        if log_summary:\n",
    "            tf.summary.scalar('cross entropy', loss)\n",
    "        grads = tape.gradient(loss, model.trainable_variables)\n",
    "        optimizer.apply_gradients(zip(grads, model.trainable_variables))\n",
    "    return loss "
   ]
  },
  {
   "cell_type": "code",
   "execution_count": 6,
   "metadata": {},
   "outputs": [
    {
     "name": "stdout",
     "output_type": "stream",
     "text": [
      "-----------------------------------------------------\n",
      "----------------------- 100k -------------------------\n",
      "-----------------------------------------------------\n",
      "def unflat unflat ? => 48 48 1\n",
      "build conv conv_1 3x3  1 => 3\n",
      "build conv conv_2 3x3  3 => 6\n",
      "build conv conv_3 3x3  6 => 12\n",
      "build fc fc  432 => 2\n",
      "iter=      0 accuracy - train= 56.58% - test= 56.75%\n",
      "iter=      0 - loss= 88.649109\n",
      "iter=    100 - loss= 72.740341\n",
      "iter=    200 - loss= 71.138046\n",
      "iter=    300 - loss= 68.339371\n",
      "iter=    400 - loss= 67.184219\n",
      "iter=    500 accuracy - train= 80.81% - test= 79.75%\n",
      "iter=    500 - loss= 65.663017\n",
      "iter=    600 - loss= 58.754494\n",
      "iter=    700 - loss= 57.657631\n",
      "iter=    800 - loss= 51.482700\n",
      "iter=    900 - loss= 47.855793\n",
      "iter=   1000 accuracy - train= 82.43% - test= 81.44%\n",
      "iter=   1000 - loss= 63.258301\n",
      "iter=   1100 - loss= 53.306465\n",
      "iter=   1200 - loss= 57.352890\n",
      "iter=   1300 - loss= 53.431862\n",
      "iter=   1400 - loss= 72.994125\n",
      "iter=   1500 accuracy - train= 84.01% - test= 83.21%\n",
      "iter=   1500 - loss= 62.347443\n",
      "iter=   1600 - loss= 62.227165\n",
      "iter=   1700 - loss= 47.887947\n",
      "iter=   1800 - loss= 48.706604\n",
      "iter=   1900 - loss= 60.264328\n",
      "iter=   2000 accuracy - train= 84.04% - test= 82.95%\n",
      "iter=   2000 - loss= 48.555737\n",
      "iter=   2100 - loss= 54.674347\n",
      "iter=   2200 - loss= 54.019161\n",
      "iter=   2300 - loss= 70.360168\n",
      "iter=   2400 - loss= 37.701008\n",
      "iter=   2500 accuracy - train= 84.82% - test= 83.76%\n",
      "iter=   2500 - loss= 58.401920\n",
      "iter=   2600 - loss= 36.512188\n",
      "iter=   2700 - loss= 41.836102\n",
      "iter=   2800 - loss= 55.126987\n",
      "iter=   2900 - loss= 55.656723\n",
      "iter=   3000 accuracy - train= 86.02% - test= 84.76%\n",
      "iter=   3000 - loss= 64.096863\n",
      "iter=   3100 - loss= 50.575684\n",
      "iter=   3200 - loss= 37.909485\n",
      "iter=   3300 - loss= 47.895561\n",
      "iter=   3400 - loss= 54.233418\n",
      "iter=   3500 accuracy - train= 85.75% - test= 84.27%\n",
      "iter=   3500 - loss= 48.633747\n",
      "iter=   3600 - loss= 43.761314\n",
      "iter=   3700 - loss= 32.431412\n",
      "iter=   3800 - loss= 48.195580\n",
      "iter=   3900 - loss= 52.689423\n",
      "iter=   4000 accuracy - train= 86.62% - test= 85.18%\n",
      "iter=   4000 - loss= 39.018082\n",
      "iter=   4100 - loss= 34.280251\n",
      "iter=   4200 - loss= 36.525013\n",
      "iter=   4300 - loss= 44.396057\n",
      "iter=   4400 - loss= 46.254509\n",
      "iter=   4500 accuracy - train= 87.15% - test= 85.83%\n",
      "iter=   4500 - loss= 53.322319\n",
      "iter=   4600 - loss= 70.001907\n",
      "iter=   4700 - loss= 49.875908\n",
      "iter=   4800 - loss= 45.464962\n",
      "iter=   4900 - loss= 35.418266\n"
     ]
    }
   ],
   "source": [
    "print (\"-----------------------------------------------------\")\n",
    "print (\"----------------------- %dk -------------------------\"%experiment_size)\n",
    "print (\"-----------------------------------------------------\")\n",
    "\n",
    "train_summary_writer = tf.summary.create_file_writer('logs %dk'%experiment_size)\n",
    "optimizer = tf.optimizers.Adam(1e-3)\n",
    "simple_cnn = ConvNeuralNet()\n",
    "\n",
    "if LoadModel:\n",
    "    ckpt = tf.train.Checkpoint(step=tf.Variable(1), optimizer=optimizer, net=simple_cnn)\n",
    "    ckpt.restore('./saved_model-1')\n",
    "\n",
    "\n",
    "for iter in range(5000):\n",
    "    tf.summary.experimental.set_step(iter)\n",
    "\n",
    "    if iter % 500 == 0:\n",
    "        with train_summary_writer.as_default():\n",
    "            acc1 = train.mean_accuracy(simple_cnn) * 100\n",
    "            acc2 = test.mean_accuracy(simple_cnn) * 100\n",
    "            print(\"iter= %6d accuracy - train= %.2f%% - test= %.2f%%\" % (iter, acc1, acc2))\n",
    "\n",
    "    ima, lab = train.NextTrainingBatch()\n",
    "    with train_summary_writer.as_default():\n",
    "        loss = train_one_iter(simple_cnn, optimizer, ima, lab, iter % 10 == 0)\n",
    "\n",
    "    if iter % 100 == 0:\n",
    "        print(\"iter= %6d - loss= %f\" % (iter, loss))\n",
    "\n",
    "if not LoadModel:\n",
    "    ckpt = tf.train.Checkpoint(step=tf.Variable(1), optimizer=optimizer, net=simple_cnn)\n",
    "    ckpt.save('./saved_model_2-1')"
   ]
  },
  {
   "cell_type": "markdown",
   "metadata": {},
   "source": [
    "### 2/ find on the web, the face image of a person"
   ]
  },
  {
   "cell_type": "markdown",
   "metadata": {},
   "source": [
    "#### Test sur image"
   ]
  },
  {
   "cell_type": "code",
   "execution_count": 287,
   "metadata": {},
   "outputs": [],
   "source": [
    "image_raw = tf.io.read_file('femme.jpg')\n",
    "image = tf.image.decode_image(image_raw,channels=1)\n",
    "image = np.array(image).reshape(48,48)"
   ]
  },
  {
   "cell_type": "code",
   "execution_count": 288,
   "metadata": {},
   "outputs": [
    {
     "data": {
      "text/plain": [
       "True"
      ]
     },
     "execution_count": 288,
     "metadata": {},
     "output_type": "execute_result"
    }
   ],
   "source": [
    "cv2.imwrite(\"adv_lalifinaritra_fangue_ori.png\",image)"
   ]
  },
  {
   "cell_type": "markdown",
   "metadata": {},
   "source": [
    "#### Plot image originale"
   ]
  },
  {
   "cell_type": "code",
   "execution_count": 289,
   "metadata": {},
   "outputs": [
    {
     "data": {
      "text/plain": [
       "<matplotlib.image.AxesImage at 0x7fe0e9361fd0>"
      ]
     },
     "execution_count": 289,
     "metadata": {},
     "output_type": "execute_result"
    },
    {
     "data": {
      "image/png": "[encoded data removed]",
      "text/plain": [
       "<Figure size 432x288 with 1 Axes>"
      ]
     },
     "metadata": {
      "needs_background": "light"
     },
     "output_type": "display_data"
    }
   ],
   "source": [
    "plt.imshow(image, cmap='gray')"
   ]
  },
  {
   "cell_type": "markdown",
   "metadata": {},
   "source": [
    "### 3/ write a small stand alone script"
   ]
  },
  {
   "cell_type": "markdown",
   "metadata": {},
   "source": [
    "#### Load Model"
   ]
  },
  {
   "cell_type": "code",
   "execution_count": 290,
   "metadata": {},
   "outputs": [
    {
     "name": "stdout",
     "output_type": "stream",
     "text": [
      "def unflat unflat ? => 48 48 1\n"
     ]
    },
    {
     "data": {
      "text/plain": [
       "<tensorflow.python.training.tracking.util.CheckpointLoadStatus at 0x7fe0e9313fd0>"
      ]
     },
     "execution_count": 290,
     "metadata": {},
     "output_type": "execute_result"
    }
   ],
   "source": [
    "LoadModel = True\n",
    "optimizer = tf.optimizers.Adam(1e-3)\n",
    "simple_cnn = ConvNeuralNet()\n",
    "ckpt = tf.train.Checkpoint(step=tf.Variable(1), optimizer=optimizer, net=simple_cnn)\n",
    "ckpt.restore('./saved_model_2-1-1')"
   ]
  },
  {
   "cell_type": "code",
   "execution_count": 291,
   "metadata": {},
   "outputs": [
    {
     "name": "stdout",
     "output_type": "stream",
     "text": [
      "build conv conv_1 3x3  1 => 3\n",
      "build conv conv_2 3x3  3 => 6\n",
      "build conv conv_3 3x3  6 => 12\n",
      "build fc fc  432 => 2\n",
      "tf.Tensor(0.8591, shape=(), dtype=float32)\n"
     ]
    }
   ],
   "source": [
    "print(test.mean_accuracy(simple_cnn))"
   ]
  },
  {
   "cell_type": "markdown",
   "metadata": {},
   "source": [
    "#### Predict gender"
   ]
  },
  {
   "cell_type": "code",
   "execution_count": 292,
   "metadata": {},
   "outputs": [],
   "source": [
    "scaler = StandardScaler()"
   ]
  },
  {
   "cell_type": "code",
   "execution_count": 293,
   "metadata": {},
   "outputs": [],
   "source": [
    "image = scaler.fit_transform(image)"
   ]
  },
  {
   "cell_type": "code",
   "execution_count": 294,
   "metadata": {},
   "outputs": [],
   "source": [
    "image = image.reshape(2304).astype('float32')"
   ]
  },
  {
   "cell_type": "code",
   "execution_count": 295,
   "metadata": {},
   "outputs": [
    {
     "data": {
      "text/plain": [
       "(2304,)"
      ]
     },
     "execution_count": 295,
     "metadata": {},
     "output_type": "execute_result"
    }
   ],
   "source": [
    "image.shape"
   ]
  },
  {
   "cell_type": "code",
   "execution_count": 296,
   "metadata": {},
   "outputs": [
    {
     "name": "stdout",
     "output_type": "stream",
     "text": [
      "tf.Tensor([[2.1283313e-06 9.9999785e-01]], shape=(1, 2), dtype=float32)\n"
     ]
    }
   ],
   "source": [
    "pred = tf.nn.softmax(simple_cnn(image,False))\n",
    "print(pred)"
   ]
  },
  {
   "cell_type": "markdown",
   "metadata": {},
   "source": [
    "### 4/ Modify your image in order to mislead your CNN detector."
   ]
  },
  {
   "cell_type": "markdown",
   "metadata": {},
   "source": [
    "#### Add Adversarial"
   ]
  },
  {
   "cell_type": "code",
   "execution_count": 297,
   "metadata": {},
   "outputs": [],
   "source": [
    "def adversarial(model, optimizer, image, dx, label):\n",
    "    with tf.GradientTape() as tape:\n",
    "        y = model(image + dx,False)\n",
    "        y = tf.nn.log_softmax(y)\n",
    "        diff = label * y\n",
    "        loss = -tf.reduce_sum(diff)\n",
    "        grads = tape.gradient(loss, [dx])\n",
    "        optimizer.apply_gradients(zip(grads, [dx]))\n",
    "    return dx"
   ]
  },
  {
   "cell_type": "markdown",
   "metadata": {},
   "source": [
    "#### utilisation de la méthode adversarial"
   ]
  },
  {
   "cell_type": "code",
   "execution_count": 298,
   "metadata": {},
   "outputs": [],
   "source": [
    "dx = tf.Variable(tf.zeros([2304]))\n",
    "image = tf.convert_to_tensor(image)\n",
    "label = [1.,0.]"
   ]
  },
  {
   "cell_type": "code",
   "execution_count": 299,
   "metadata": {},
   "outputs": [],
   "source": [
    "DX = adversarial(simple_cnn,optimizer,image,dx,label)"
   ]
  },
  {
   "cell_type": "code",
   "execution_count": 302,
   "metadata": {},
   "outputs": [],
   "source": [
    "eps = 1\n",
    "image_dx = image + eps*DX\n",
    "image_dx = tf.clip_by_value(image_dx, 0, 1)"
   ]
  },
  {
   "cell_type": "code",
   "execution_count": 303,
   "metadata": {},
   "outputs": [
    {
     "name": "stdout",
     "output_type": "stream",
     "text": [
      "tf.Tensor([[0.06102104 0.93897897]], shape=(1, 2), dtype=float32)\n"
     ]
    }
   ],
   "source": [
    "pred = tf.nn.softmax(simple_cnn(image_dx,False))\n",
    "print(pred)"
   ]
  },
  {
   "cell_type": "markdown",
   "metadata": {},
   "source": [
    "#### Plot image modifiée "
   ]
  },
  {
   "cell_type": "code",
   "execution_count": 304,
   "metadata": {},
   "outputs": [
    {
     "data": {
      "text/plain": [
       "<matplotlib.image.AxesImage at 0x7fe0e92d9358>"
      ]
     },
     "execution_count": 304,
     "metadata": {},
     "output_type": "execute_result"
    },
    {
     "data": {
      "image/png": "[encoded data removed]",
      "text/plain": [
       "<Figure size 432x288 with 1 Axes>"
      ]
     },
     "metadata": {
      "needs_background": "light"
     },
     "output_type": "display_data"
    }
   ],
   "source": [
    "plt.imshow(np.array(tf.convert_to_tensor(image_dx)).reshape(48,48), cmap='gray')"
   ]
  },
  {
   "cell_type": "markdown",
   "metadata": {},
   "source": [
    "#### Plot bruit DX"
   ]
  },
  {
   "cell_type": "code",
   "execution_count": 305,
   "metadata": {},
   "outputs": [
    {
     "data": {
      "text/plain": [
       "<matplotlib.image.AxesImage at 0x7fe0e8aa5780>"
      ]
     },
     "execution_count": 305,
     "metadata": {},
     "output_type": "execute_result"
    },
    {
     "data": {
      "image/png": "[encoded data removed]",
      "text/plain": [
       "<Figure size 432x288 with 1 Axes>"
      ]
     },
     "metadata": {
      "needs_background": "light"
     },
     "output_type": "display_data"
    }
   ],
   "source": [
    "plt.imshow(np.array(tf.convert_to_tensor(DX)).reshape(48,48), cmap='gray')"
   ]
  },
  {
   "cell_type": "markdown",
   "metadata": {},
   "source": [
    "#### Save image modifiée"
   ]
  },
  {
   "cell_type": "code",
   "execution_count": 306,
   "metadata": {},
   "outputs": [],
   "source": [
    "image_mod = scaler.inverse_transform(np.array(tf.convert_to_tensor(image_dx)).reshape(48,48))"
   ]
  },
  {
   "cell_type": "code",
   "execution_count": 307,
   "metadata": {},
   "outputs": [
    {
     "data": {
      "text/plain": [
       "True"
      ]
     },
     "execution_count": 307,
     "metadata": {},
     "output_type": "execute_result"
    }
   ],
   "source": [
    "cv2.imwrite(\"adv_lalifinaritra_fangue_mod.png\",image_mod)"
   ]
  },
  {
   "cell_type": "markdown",
   "metadata": {},
   "source": [
    "#### 5/ Test the Modified Image with your small script."
   ]
  },
  {
   "cell_type": "markdown",
   "metadata": {},
   "source": [
    "#### Plot image amplifiée et prédiction"
   ]
  },
  {
   "cell_type": "code",
   "execution_count": 308,
   "metadata": {},
   "outputs": [],
   "source": [
    "eps = 50\n",
    "image_dx_50 = image + eps*DX\n",
    "image_dx_50 = tf.clip_by_value(image_dx_50, 0, 1)"
   ]
  },
  {
   "cell_type": "code",
   "execution_count": 309,
   "metadata": {},
   "outputs": [
    {
     "name": "stdout",
     "output_type": "stream",
     "text": [
      "tf.Tensor([[0.917897   0.08210304]], shape=(1, 2), dtype=float32)\n"
     ]
    }
   ],
   "source": [
    "pred = tf.nn.softmax(simple_cnn(image_dx_50,False))\n",
    "print(pred)"
   ]
  },
  {
   "cell_type": "code",
   "execution_count": 310,
   "metadata": {},
   "outputs": [
    {
     "data": {
      "text/plain": [
       "<matplotlib.image.AxesImage at 0x7fe0e89ffef0>"
      ]
     },
     "execution_count": 310,
     "metadata": {},
     "output_type": "execute_result"
    },
    {
     "data": {
      "image/png": "[encoded data removed]",
      "text/plain": [
       "<Figure size 432x288 with 1 Axes>"
      ]
     },
     "metadata": {
      "needs_background": "light"
     },
     "output_type": "display_data"
    }
   ],
   "source": [
    "plt.imshow(np.array(tf.convert_to_tensor(image_dx_50)).reshape(48,48), cmap='gray')"
   ]
  },
  {
   "cell_type": "markdown",
   "metadata": {},
   "source": [
    "#### Save image amplifiée"
   ]
  },
  {
   "cell_type": "code",
   "execution_count": 311,
   "metadata": {},
   "outputs": [],
   "source": [
    "image_amp = scaler.inverse_transform(np.array(tf.convert_to_tensor(image_dx_50)).reshape(48,48))"
   ]
  },
  {
   "cell_type": "code",
   "execution_count": 312,
   "metadata": {},
   "outputs": [
    {
     "data": {
      "text/plain": [
       "True"
      ]
     },
     "execution_count": 312,
     "metadata": {},
     "output_type": "execute_result"
    }
   ],
   "source": [
    "cv2.imwrite(\"adv_lalifinaritra_fangue_amp.png\",image_amp)"
   ]
  },
  {
   "cell_type": "markdown",
   "metadata": {},
   "source": [
    "### 6/ Add a L2 constraint to DX to make it small"
   ]
  },
  {
   "cell_type": "markdown",
   "metadata": {},
   "source": [
    "#### Add L2 regularization"
   ]
  },
  {
   "cell_type": "code",
   "execution_count": 313,
   "metadata": {},
   "outputs": [],
   "source": [
    "def adversarial_l2(model, optimizer, image, dx, label):\n",
    "    regularizer = tf.nn.l2_loss(dx)\n",
    "    lr = 0.5\n",
    "    with tf.GradientTape() as tape:\n",
    "        y = model(image + dx,False)\n",
    "        y = tf.nn.log_softmax(y)\n",
    "        diff = label * y\n",
    "        loss = -tf.reduce_sum(diff + lr * regularizer)\n",
    "        grads = tape.gradient(loss, [dx])\n",
    "        optimizer.apply_gradients(zip(grads, [dx]))    \n",
    "    return dx"
   ]
  },
  {
   "cell_type": "code",
   "execution_count": 314,
   "metadata": {},
   "outputs": [],
   "source": [
    "DX_l2 = adversarial_l2(simple_cnn,optimizer,image,dx,label)"
   ]
  },
  {
   "cell_type": "code",
   "execution_count": 315,
   "metadata": {},
   "outputs": [],
   "source": [
    "image_dx_l2 = image + eps*DX_l2\n",
    "image_dx_l2 = tf.clip_by_value(image_dx_l2, 0, 1)"
   ]
  },
  {
   "cell_type": "code",
   "execution_count": 316,
   "metadata": {},
   "outputs": [
    {
     "name": "stdout",
     "output_type": "stream",
     "text": [
      "tf.Tensor([[9.995443e-01 4.556411e-04]], shape=(1, 2), dtype=float32)\n"
     ]
    }
   ],
   "source": [
    "pred = tf.nn.softmax(simple_cnn(image_dx_l2,False))\n",
    "print(pred)"
   ]
  },
  {
   "cell_type": "code",
   "execution_count": 317,
   "metadata": {},
   "outputs": [
    {
     "data": {
      "text/plain": [
       "<matplotlib.image.AxesImage at 0x7fe0e89dc668>"
      ]
     },
     "execution_count": 317,
     "metadata": {},
     "output_type": "execute_result"
    },
    {
     "data": {
      "image/png": "[encoded data removed]",
      "text/plain": [
       "<Figure size 432x288 with 1 Axes>"
      ]
     },
     "metadata": {
      "needs_background": "light"
     },
     "output_type": "display_data"
    }
   ],
   "source": [
    "plt.imshow(np.array(tf.convert_to_tensor(image_dx_l2)).reshape(48,48), cmap='gray')"
   ]
  },
  {
   "cell_type": "code",
   "execution_count": 318,
   "metadata": {},
   "outputs": [],
   "source": [
    "image_l2 = scaler.inverse_transform(np.array(tf.convert_to_tensor(image_dx_l2)).reshape(48,48))"
   ]
  },
  {
   "cell_type": "code",
   "execution_count": 319,
   "metadata": {},
   "outputs": [
    {
     "data": {
      "text/plain": [
       "True"
      ]
     },
     "execution_count": 319,
     "metadata": {},
     "output_type": "execute_result"
    }
   ],
   "source": [
    "cv2.imwrite(\"adv_lalifinaritra_fangue_l2.png\",image_l2)"
   ]
  }
 ],
 "metadata": {
  "kernelspec": {
   "display_name": "Python 3",
   "language": "python",
   "name": "python3"
  },
  "language_info": {
   "codemirror_mode": {
    "name": "ipython",
    "version": 3
   },
   "file_extension": ".py",
   "mimetype": "text/x-python",
   "name": "python",
   "nbconvert_exporter": "python",
   "pygments_lexer": "ipython3",
   "version": "3.7.3"
  }
 },
 "nbformat": 4,
 "nbformat_minor": 2
}
