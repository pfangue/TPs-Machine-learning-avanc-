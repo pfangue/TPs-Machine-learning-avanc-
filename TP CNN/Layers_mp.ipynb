{
 "cells": [
  {
   "cell_type": "code",
   "execution_count": 1,
   "metadata": {},
   "outputs": [],
   "source": [
    "import tensorflow as tf"
   ]
  },
  {
   "cell_type": "code",
   "execution_count": 2,
   "metadata": {},
   "outputs": [],
   "source": [
    "class fc(tf.Module):\n",
    "    def __init__(self, name, output_dim):\n",
    "        self.scope_name = name\n",
    "        self.output_dim = output_dim\n",
    "        self.b = tf.Variable(tf.constant(0.0, shape=[self.output_dim]))\n",
    "    def __call__(self, x, log_summary):\n",
    "        if not hasattr(self, 'w'):\n",
    "            w_init = tf.random.truncated_normal([x.shape[1], self.output_dim], stddev=0.1)\n",
    "            self.w = tf.Variable(w_init)\n",
    "            print('build fc %s  %d => %d' % (self.scope_name,  x.shape[1], self.output_dim))\n",
    "\n",
    "        if log_summary:\n",
    "            with tf.name_scope(self.scope_name) as scope:\n",
    "                tf.summary.scalar(\"mean w\", tf.reduce_mean(self.w))\n",
    "                tf.summary.scalar(\"max w\", tf.reduce_max(self.w))\n",
    "                tf.summary.histogram(\"w\", self.w)\n",
    "                tf.summary.scalar(\"mean b\", tf.reduce_mean(self.b))\n",
    "                tf.summary.scalar(\"max b\", tf.reduce_max(self.b))\n",
    "                tf.summary.histogram(\"b\", self.b)\n",
    "        return tf.matmul(x, self.w) + self.b"
   ]
  },
  {
   "cell_type": "code",
   "execution_count": 3,
   "metadata": {},
   "outputs": [],
   "source": [
    "class conv(tf.Module):\n",
    "    def __init__(self, name, output_dim, filterSize, stride):\n",
    "        self.scope_name = name\n",
    "        self.filterSize = filterSize\n",
    "        self.output_dim = output_dim\n",
    "        self.stride = stride\n",
    "        self.b = tf.Variable(tf.constant(0.0, shape=[self.output_dim]))\n",
    "    def __call__(self, x, log_summary):\n",
    "        if not hasattr(self, 'w'):\n",
    "            w_init = tf.random.truncated_normal([self.filterSize, self.filterSize, x.shape[3], self.output_dim], stddev=0.1)\n",
    "            self.w = tf.Variable(w_init)\n",
    "            print('build conv %s %dx%d  %d => %d'%(self.scope_name,self.filterSize,self.filterSize, x.shape[3], self.output_dim))\n",
    "        if log_summary:\n",
    "            with tf.name_scope(self.scope_name) as scope:\n",
    "                tf.summary.scalar(\"mean w\", tf.reduce_mean(self.w))\n",
    "                tf.summary.scalar(\"max w\", tf.reduce_max(self.w))\n",
    "                tf.summary.histogram(\"w\", self.w)\n",
    "                tf.summary.scalar(\"mean b\", tf.reduce_mean(self.b))\n",
    "                tf.summary.scalar(\"max b\", tf.reduce_max(self.b))\n",
    "                tf.summary.histogram(\"b\", self.b)\n",
    "        x = tf.nn.conv2d(x, self.w, strides=[1, self.stride, self.stride, 1], padding='SAME') + self.b\n",
    "        return tf.nn.relu(x)"
   ]
  },
  {
   "cell_type": "code",
   "execution_count": 4,
   "metadata": {},
   "outputs": [],
   "source": [
    "class maxpool(tf.Module):\n",
    "    def __init__(self, name, poolSize):\n",
    "        self.scope_name = name\n",
    "        self.poolSize = poolSize\n",
    "\n",
    "    def __call__(self, x):\n",
    "        return tf.nn.max_pool2d(x, ksize=(1, self.poolSize, self.poolSize, 1),\n",
    "                                strides=(1, self.poolSize, self.poolSize, 1), padding='SAME')"
   ]
  },
  {
   "cell_type": "code",
   "execution_count": 5,
   "metadata": {},
   "outputs": [],
   "source": [
    "class flat(tf.Module):\n",
    "    def __call__(self, x):\n",
    "        inDimH = x.shape[1]\n",
    "        inDimW = x.shape[2]\n",
    "        inDimD = x.shape[3]\n",
    "        return tf.reshape(x, [-1, inDimH * inDimW * inDimD])"
   ]
  },
  {
   "cell_type": "code",
   "execution_count": 6,
   "metadata": {},
   "outputs": [],
   "source": [
    "class unflat(tf.Module):\n",
    "    def __init__(self, name, outDimH, outDimW, outDimD):\n",
    "        self.scope_name = name\n",
    "        self.new_shape = [-1, outDimH, outDimW, outDimD]\n",
    "        print('def unflat %s ? => %d %d %d' % (self.scope_name, outDimH, outDimW, outDimD))\n",
    "\n",
    "    def __call__(self, x, log_summary):\n",
    "        x = tf.reshape(x, self.new_shape)\n",
    "        if log_summary:\n",
    "            with tf.name_scope(self.scope_name) as scope:\n",
    "                tf.summary.image('input', x, 5)\n",
    "        return x"
   ]
  },
  {
   "cell_type": "code",
   "execution_count": null,
   "metadata": {},
   "outputs": [],
   "source": []
  }
 ],
 "metadata": {
  "kernelspec": {
   "display_name": "Python 3",
   "language": "python",
   "name": "python3"
  },
  "language_info": {
   "codemirror_mode": {
    "name": "ipython",
    "version": 3
   },
   "file_extension": ".py",
   "mimetype": "text/x-python",
   "name": "python",
   "nbconvert_exporter": "python",
   "pygments_lexer": "ipython3",
   "version": "3.7.3"
  }
 },
 "nbformat": 4,
 "nbformat_minor": 2
}
