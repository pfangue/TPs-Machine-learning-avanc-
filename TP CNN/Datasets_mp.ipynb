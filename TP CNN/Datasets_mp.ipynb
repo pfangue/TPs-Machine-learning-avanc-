{
 "cells": [
  {
   "cell_type": "code",
   "execution_count": 1,
   "metadata": {},
   "outputs": [],
   "source": [
    "import numpy as np\n",
    "import tensorflow as tf"
   ]
  },
  {
   "cell_type": "code",
   "execution_count": 2,
   "metadata": {},
   "outputs": [],
   "source": [
    "class DataSet(object):\n",
    "    def __init__(self, filename_data, filename_gender, nbdata, batchSize=128):\n",
    "        self.nbdata = nbdata\n",
    "        self.name = filename_data\n",
    "        # taille des images 48*48 pixels en niveau de gris\n",
    "        self.dim = 2304\n",
    "        self.data = None\n",
    "        self.label = None\n",
    "        self.batchSize = batchSize\n",
    "        self.curPos = 0\n",
    "\n",
    "        f = open(filename_data, 'rb')\n",
    "        self.data = np.empty([nbdata, self.dim], dtype=np.float32)\n",
    "        for i in range(nbdata):\n",
    "            self.data[i, :] = np.fromfile(f, dtype=np.uint8, count=self.dim)\n",
    "        f.close()\n",
    "\n",
    "        f = open(filename_gender, 'rb')\n",
    "        self.label = np.empty([nbdata, 2], dtype=np.float32)\n",
    "        for i in range(nbdata):\n",
    "            self.label[i, :] = np.fromfile(f, dtype=np.float32, count=2)\n",
    "        f.close()\n",
    "\n",
    "        print('nb data = ', self.nbdata)\n",
    "        self.data = (self.data - 128.0) / 256.0\n",
    "\n",
    "        tmpdata = np.empty([1, self.dim], dtype=np.float32)\n",
    "        tmplabel = np.empty([1, 2], dtype=np.float32)\n",
    "        arr = np.arange(nbdata)\n",
    "        np.random.shuffle(arr)\n",
    "        tmpdata = self.data[arr[0], :]\n",
    "        tmplabel = self.label[arr[0], :]\n",
    "        for i in range(nbdata - 1):\n",
    "            self.data[arr[i], :] = self.data[arr[i + 1], :]\n",
    "            self.label[arr[i], :] = self.label[arr[i + 1], :]\n",
    "        self.data[arr[nbdata - 1], :] = tmpdata\n",
    "        self.label[arr[nbdata - 1], :] = tmplabel\n",
    "        \n",
    "        def NextTrainingBatch(self):\n",
    "            if self.curPos + self.batchSize > self.nbdata:\n",
    "                self.curPos = 0\n",
    "            xs = self.data[self.curPos:self.curPos + self.batchSize, :]\n",
    "            ys = self.label[self.curPos:self.curPos + self.batchSize, :]\n",
    "            self.curPos += self.batchSize\n",
    "            return xs, ys\n",
    "        \n",
    "        \n",
    "        def mean_accuracy(self, model):\n",
    "            acc = 0\n",
    "            for i in range(0, self.nbdata, self.batchSize):\n",
    "                curBatchSize = min(self.batchSize, self.nbdata - i)\n",
    "                images = self.data[i:i+curBatchSize,:]\n",
    "                labels = self.label[i:i+curBatchSize,:]\n",
    "                y = model(images, False)\n",
    "                correct_prediction = tf.equal(tf.argmax(y, 1), tf.argmax(labels, 1))\n",
    "                accuracy = tf.reduce_mean(tf.cast(correct_prediction, tf.float32))\n",
    "                acc += accuracy * curBatchSize\n",
    "            acc /= self.nbdata\n",
    "            tf.summary.scalar('Accuracy %s'%self.name, acc)\n",
    "            return acc       "
   ]
  },
  {
   "cell_type": "code",
   "execution_count": null,
   "metadata": {},
   "outputs": [],
   "source": []
  }
 ],
 "metadata": {
  "kernelspec": {
   "display_name": "Python 3",
   "language": "python",
   "name": "python3"
  },
  "language_info": {
   "codemirror_mode": {
    "name": "ipython",
    "version": 3
   },
   "file_extension": ".py",
   "mimetype": "text/x-python",
   "name": "python",
   "nbconvert_exporter": "python",
   "pygments_lexer": "ipython3",
   "version": "3.7.3"
  }
 },
 "nbformat": 4,
 "nbformat_minor": 2
}
