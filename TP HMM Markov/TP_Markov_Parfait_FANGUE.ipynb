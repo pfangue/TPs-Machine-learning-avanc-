{
 "cells": [
  {
   "cell_type": "markdown",
   "metadata": {},
   "source": [
    "<h1 style= font-size:30px><center><br>TP HMM </center></h1>\n",
    "<h3 style= float:right> Parfait FANGUE  </h3>"
   ]
  },
  {
   "cell_type": "code",
   "execution_count": 1,
   "metadata": {},
   "outputs": [],
   "source": [
    "import numpy as np\n",
    "import pandas as pd\n",
    "import matplotlib.pyplot as plt\n",
    "%matplotlib inline"
   ]
  },
  {
   "cell_type": "markdown",
   "metadata": {},
   "source": [
    "## Partie I : Chaîne de Markov"
   ]
  },
  {
   "cell_type": "markdown",
   "metadata": {},
   "source": [
    "### I.1 load : chargement d’un fichier"
   ]
  },
  {
   "cell_type": "code",
   "execution_count": 2,
   "metadata": {},
   "outputs": [],
   "source": [
    "filename_A= 'bigramenglish.txt'\n",
    "file = np.loadtxt(filename_A)"
   ]
  },
  {
   "cell_type": "code",
   "execution_count": 3,
   "metadata": {},
   "outputs": [],
   "source": [
    "filename_A_df = pd.read_csv('bigramenglish.txt', header=None, delimiter='  ', engine='python')"
   ]
  },
  {
   "cell_type": "code",
   "execution_count": 4,
   "metadata": {},
   "outputs": [
    {
     "data": {
      "text/html": [
       "<div>\n",
       "<style scoped>\n",
       "    .dataframe tbody tr th:only-of-type {\n",
       "        vertical-align: middle;\n",
       "    }\n",
       "\n",
       "    .dataframe tbody tr th {\n",
       "        vertical-align: top;\n",
       "    }\n",
       "\n",
       "    .dataframe thead th {\n",
       "        text-align: right;\n",
       "    }\n",
       "</style>\n",
       "<table border=\"1\" class=\"dataframe\">\n",
       "  <thead>\n",
       "    <tr style=\"text-align: right;\">\n",
       "      <th></th>\n",
       "      <th>0</th>\n",
       "      <th>1</th>\n",
       "      <th>2</th>\n",
       "      <th>3</th>\n",
       "      <th>4</th>\n",
       "      <th>5</th>\n",
       "      <th>6</th>\n",
       "      <th>7</th>\n",
       "      <th>8</th>\n",
       "      <th>9</th>\n",
       "      <th>...</th>\n",
       "      <th>18</th>\n",
       "      <th>19</th>\n",
       "      <th>20</th>\n",
       "      <th>21</th>\n",
       "      <th>22</th>\n",
       "      <th>23</th>\n",
       "      <th>24</th>\n",
       "      <th>25</th>\n",
       "      <th>26</th>\n",
       "      <th>27</th>\n",
       "    </tr>\n",
       "  </thead>\n",
       "  <tbody>\n",
       "    <tr>\n",
       "      <th>0</th>\n",
       "      <td>0.0</td>\n",
       "      <td>0.112687</td>\n",
       "      <td>0.043609</td>\n",
       "      <td>0.045455</td>\n",
       "      <td>0.032904</td>\n",
       "      <td>0.022094</td>\n",
       "      <td>0.041763</td>\n",
       "      <td>0.015556</td>\n",
       "      <td>0.064438</td>\n",
       "      <td>0.068920</td>\n",
       "      <td>...</td>\n",
       "      <td>0.025680</td>\n",
       "      <td>0.066916</td>\n",
       "      <td>0.164522</td>\n",
       "      <td>0.010388</td>\n",
       "      <td>0.007066</td>\n",
       "      <td>0.070502</td>\n",
       "      <td>0.000105</td>\n",
       "      <td>0.010599</td>\n",
       "      <td>0.000053</td>\n",
       "      <td>0.000000</td>\n",
       "    </tr>\n",
       "    <tr>\n",
       "      <th>1</th>\n",
       "      <td>0.0</td>\n",
       "      <td>0.000015</td>\n",
       "      <td>0.022934</td>\n",
       "      <td>0.033960</td>\n",
       "      <td>0.038076</td>\n",
       "      <td>0.000147</td>\n",
       "      <td>0.006174</td>\n",
       "      <td>0.024698</td>\n",
       "      <td>0.000882</td>\n",
       "      <td>0.037047</td>\n",
       "      <td>...</td>\n",
       "      <td>0.094822</td>\n",
       "      <td>0.095410</td>\n",
       "      <td>0.133486</td>\n",
       "      <td>0.011761</td>\n",
       "      <td>0.033372</td>\n",
       "      <td>0.009850</td>\n",
       "      <td>0.000588</td>\n",
       "      <td>0.019847</td>\n",
       "      <td>0.000882</td>\n",
       "      <td>0.067478</td>\n",
       "    </tr>\n",
       "    <tr>\n",
       "      <th>2</th>\n",
       "      <td>0.0</td>\n",
       "      <td>0.071874</td>\n",
       "      <td>0.000790</td>\n",
       "      <td>0.000079</td>\n",
       "      <td>0.000790</td>\n",
       "      <td>0.282758</td>\n",
       "      <td>0.000079</td>\n",
       "      <td>0.000079</td>\n",
       "      <td>0.000079</td>\n",
       "      <td>0.070295</td>\n",
       "      <td>...</td>\n",
       "      <td>0.047390</td>\n",
       "      <td>0.015007</td>\n",
       "      <td>0.010268</td>\n",
       "      <td>0.127162</td>\n",
       "      <td>0.001580</td>\n",
       "      <td>0.000079</td>\n",
       "      <td>0.000079</td>\n",
       "      <td>0.106627</td>\n",
       "      <td>0.000079</td>\n",
       "      <td>0.007108</td>\n",
       "    </tr>\n",
       "    <tr>\n",
       "      <th>3</th>\n",
       "      <td>0.0</td>\n",
       "      <td>0.136747</td>\n",
       "      <td>0.000041</td>\n",
       "      <td>0.017500</td>\n",
       "      <td>0.001221</td>\n",
       "      <td>0.136747</td>\n",
       "      <td>0.000041</td>\n",
       "      <td>0.000041</td>\n",
       "      <td>0.162794</td>\n",
       "      <td>0.073257</td>\n",
       "      <td>...</td>\n",
       "      <td>0.052501</td>\n",
       "      <td>0.000814</td>\n",
       "      <td>0.087095</td>\n",
       "      <td>0.031338</td>\n",
       "      <td>0.000041</td>\n",
       "      <td>0.000041</td>\n",
       "      <td>0.000041</td>\n",
       "      <td>0.005291</td>\n",
       "      <td>0.000041</td>\n",
       "      <td>0.019535</td>\n",
       "    </tr>\n",
       "    <tr>\n",
       "      <th>4</th>\n",
       "      <td>0.0</td>\n",
       "      <td>0.036241</td>\n",
       "      <td>0.000029</td>\n",
       "      <td>0.000029</td>\n",
       "      <td>0.007191</td>\n",
       "      <td>0.136911</td>\n",
       "      <td>0.000863</td>\n",
       "      <td>0.003739</td>\n",
       "      <td>0.000863</td>\n",
       "      <td>0.090028</td>\n",
       "      <td>...</td>\n",
       "      <td>0.018984</td>\n",
       "      <td>0.020134</td>\n",
       "      <td>0.000029</td>\n",
       "      <td>0.020422</td>\n",
       "      <td>0.002876</td>\n",
       "      <td>0.000863</td>\n",
       "      <td>0.000029</td>\n",
       "      <td>0.008629</td>\n",
       "      <td>0.000029</td>\n",
       "      <td>0.598844</td>\n",
       "    </tr>\n",
       "  </tbody>\n",
       "</table>\n",
       "<p>5 rows × 28 columns</p>\n",
       "</div>"
      ],
      "text/plain": [
       "    0         1         2         3         4         5         6         7   \\\n",
       "0  0.0  0.112687  0.043609  0.045455  0.032904  0.022094  0.041763  0.015556   \n",
       "1  0.0  0.000015  0.022934  0.033960  0.038076  0.000147  0.006174  0.024698   \n",
       "2  0.0  0.071874  0.000790  0.000079  0.000790  0.282758  0.000079  0.000079   \n",
       "3  0.0  0.136747  0.000041  0.017500  0.001221  0.136747  0.000041  0.000041   \n",
       "4  0.0  0.036241  0.000029  0.000029  0.007191  0.136911  0.000863  0.003739   \n",
       "\n",
       "         8         9   ...        18        19        20        21        22  \\\n",
       "0  0.064438  0.068920  ...  0.025680  0.066916  0.164522  0.010388  0.007066   \n",
       "1  0.000882  0.037047  ...  0.094822  0.095410  0.133486  0.011761  0.033372   \n",
       "2  0.000079  0.070295  ...  0.047390  0.015007  0.010268  0.127162  0.001580   \n",
       "3  0.162794  0.073257  ...  0.052501  0.000814  0.087095  0.031338  0.000041   \n",
       "4  0.000863  0.090028  ...  0.018984  0.020134  0.000029  0.020422  0.002876   \n",
       "\n",
       "         23        24        25        26        27  \n",
       "0  0.070502  0.000105  0.010599  0.000053  0.000000  \n",
       "1  0.009850  0.000588  0.019847  0.000882  0.067478  \n",
       "2  0.000079  0.000079  0.106627  0.000079  0.007108  \n",
       "3  0.000041  0.000041  0.005291  0.000041  0.019535  \n",
       "4  0.000863  0.000029  0.008629  0.000029  0.598844  \n",
       "\n",
       "[5 rows x 28 columns]"
      ]
     },
     "execution_count": 4,
     "metadata": {},
     "output_type": "execute_result"
    }
   ],
   "source": [
    "filename_A_df.head()"
   ]
  },
  {
   "cell_type": "markdown",
   "metadata": {},
   "source": [
    "### Création du dictionnaire clé-valeur associant états et caractères :"
   ]
  },
  {
   "cell_type": "code",
   "execution_count": 5,
   "metadata": {},
   "outputs": [],
   "source": [
    "dic={'1' : ' ', '2' : 'a', '3' : 'b', '4': 'c', '5' : 'd', '6' : 'e', '7': 'f', '8' : 'g', '9' : 'h', '10': 'i', '11': 'j',\n",
    "'12' : 'k', '13' : 'l', '14': 'm', '15' : 'n', '16' : 'o', '17': 'p', '18' : 'q', '19' : 'r' , '20': 's', '21' : 't', '22'\n",
    ": 'u', '23': 'v', '24' : 'w', '25' : 'x' , '26': 'y', '27' : 'z', '28' : ' ' }"
   ]
  },
  {
   "cell_type": "markdown",
   "metadata": {},
   "source": [
    "### Inverser le dictionnaire (les valeurs deviennent les clés et réciproquement)"
   ]
  },
  {
   "cell_type": "code",
   "execution_count": 6,
   "metadata": {},
   "outputs": [],
   "source": [
    "dic_inv = {v: k for k, v in dic.items()}"
   ]
  },
  {
   "cell_type": "markdown",
   "metadata": {},
   "source": [
    "### I.2.a Matrice de transitions"
   ]
  },
  {
   "cell_type": "markdown",
   "metadata": {},
   "source": [
    "#### Probabilités correspondant à la première ligne de la matrice de transition"
   ]
  },
  {
   "cell_type": "code",
   "execution_count": 7,
   "metadata": {},
   "outputs": [
    {
     "name": "stdout",
     "output_type": "stream",
     "text": [
      "Première ligne du fichier bigramenglish : [0.0000000e+00 1.1268720e-01 4.3608943e-02 4.5454545e-02 3.2904451e-02\n",
      " 2.2094495e-02 4.1763341e-02 1.5555790e-02 6.4437882e-02 6.8920059e-02\n",
      " 3.6384729e-03 4.2185193e-03 2.3465514e-02 3.9759544e-02 2.2832736e-02\n",
      " 7.0343809e-02 3.1058848e-02 1.4237503e-03 2.5680236e-02 6.6916262e-02\n",
      " 1.6452225e-01 1.0388104e-02 7.0660198e-03 7.0502004e-02 1.0546298e-04\n",
      " 1.0599030e-02 5.2731491e-05 0.0000000e+00]\n"
     ]
    }
   ],
   "source": [
    "print(\"Première ligne du fichier bigramenglish :\", file[0,:])"
   ]
  },
  {
   "cell_type": "code",
   "execution_count": 8,
   "metadata": {},
   "outputs": [
    {
     "name": "stdout",
     "output_type": "stream",
     "text": [
      "==> transition depuis 'etat initial' la plus problable : état 21 \n",
      "\n"
     ]
    }
   ],
   "source": [
    "print(\"==> transition depuis 'etat initial' la plus problable : état\", np.argmax(file[0, :])+1, \"\\n\")"
   ]
  },
  {
   "cell_type": "markdown",
   "metadata": {},
   "source": [
    "#### Probabilités correspondant à la dernière colonne de la matrice de transition"
   ]
  },
  {
   "cell_type": "code",
   "execution_count": 9,
   "metadata": {},
   "outputs": [
    {
     "name": "stdout",
     "output_type": "stream",
     "text": [
      "Dernière colonne du fichier bigramenglish : [0.0000000e+00 6.7478169e-02 7.1084433e-03 1.9535224e-02 5.9884373e-01\n",
      " 3.6047379e-01 3.9653963e-01 3.1566736e-01 1.0300926e-01 2.4606608e-02\n",
      " 9.5877277e-04 3.7225637e-01 1.5338255e-01 1.5795761e-01 2.9421872e-01\n",
      " 1.2308174e-01 6.4222084e-02 1.3966480e-03 2.1088912e-01 4.3030156e-01\n",
      " 2.2273059e-01 3.8466582e-02 9.9108028e-05 1.0216281e-01 1.2345679e-01\n",
      " 7.7582944e-01 1.9193858e-03 1.0000000e+00]\n"
     ]
    }
   ],
   "source": [
    "print(\"Dernière colonne du fichier bigramenglish :\", file[:,-1])"
   ]
  },
  {
   "cell_type": "code",
   "execution_count": 10,
   "metadata": {},
   "outputs": [
    {
     "name": "stdout",
     "output_type": "stream",
     "text": [
      "==> transition précédant 'etat final' la plus problable : état 26\n"
     ]
    }
   ],
   "source": [
    "print(\"==> transition précédant 'etat final' la plus problable : état\", np.argmax(file[1:27, -1])+2)"
   ]
  },
  {
   "cell_type": "markdown",
   "metadata": {},
   "source": [
    "####  Pour chaque lettre de l’alphabet, indiquer la transition la plus fréquente depuis cette lettre"
   ]
  },
  {
   "cell_type": "code",
   "execution_count": 11,
   "metadata": {},
   "outputs": [
    {
     "name": "stdout",
     "output_type": "stream",
     "text": [
      "Transition la plus fréquente depuis chaque lettre :\n",
      "a ==> 15 = 'n'\n",
      "b ==> 6 = 'e'\n",
      "c ==> 16 = 'o'\n",
      "d ==> 28 = ' '\n",
      "e ==> 28 = ' '\n",
      "f ==> 28 = ' '\n",
      "g ==> 28 = ' '\n",
      "h ==> 6 = 'e'\n",
      "i ==> 15 = 'n'\n",
      "j ==> 16 = 'o'\n",
      "k ==> 28 = ' '\n",
      "l ==> 6 = 'e'\n",
      "m ==> 6 = 'e'\n",
      "n ==> 28 = ' '\n",
      "o ==> 15 = 'n'\n",
      "p ==> 6 = 'e'\n",
      "q ==> 22 = 'u'\n",
      "r ==> 6 = 'e'\n",
      "s ==> 28 = ' '\n",
      "t ==> 9 = 'h'\n",
      "u ==> 19 = 'r'\n",
      "v ==> 6 = 'e'\n",
      "w ==> 2 = 'a'\n",
      "x ==> 21 = 't'\n",
      "y ==> 28 = ' '\n",
      "z ==> 6 = 'e'\n"
     ]
    }
   ],
   "source": [
    "print('Transition la plus fréquente depuis chaque lettre :')\n",
    "\n",
    "next_etat_prob = np.argmax(file[1:27, :], axis=1) + 1\n",
    "list_alphabet = [x for x in 'abcdefghijklmnopqrstuvwxyz']\n",
    "\n",
    "for idx, c in enumerate(list_alphabet):\n",
    "    plus_prob = next_etat_prob[idx]\n",
    "    print(c, \"==>\", plus_prob, \"= '%s'\" % dic[str(plus_prob)])"
   ]
  },
  {
   "cell_type": "code",
   "execution_count": 12,
   "metadata": {},
   "outputs": [
    {
     "name": "stdout",
     "output_type": "stream",
     "text": [
      "[15  6 16 28 28 28 28  6 15 16 28  6  6 28 15  6 22  6 28  9 19  6  2 21\n",
      " 28  6]\n"
     ]
    }
   ],
   "source": [
    "print(next_etat_prob)"
   ]
  },
  {
   "cell_type": "markdown",
   "metadata": {},
   "source": [
    "### I.2.b Générer un mot"
   ]
  },
  {
   "cell_type": "code",
   "execution_count": 13,
   "metadata": {},
   "outputs": [],
   "source": [
    "def etat_suivant(t, file):\n",
    "    \n",
    "    if (t >= 1 and t <= file.shape[0]):\n",
    "        # Somme cumulée des transitions pour l'état t\n",
    "        sum_cum_file_t = np.cumsum(file[t-1])  \n",
    "    \n",
    "        # Tirage d'un nombre aléatoire dans [0,1] selon une loi uniforme\n",
    "        r = np.random.random()\n",
    "    \n",
    "        # Trouve la transition correspondante\n",
    "        t_plus_1 = sum((sum_cum_file_t < r)) + 1\n",
    "    \n",
    "    return sum_cum_file_t, r, t_plus_1"
   ]
  },
  {
   "cell_type": "markdown",
   "metadata": {},
   "source": [
    "#### Graphique de la fonction de répartition"
   ]
  },
  {
   "cell_type": "code",
   "execution_count": 14,
   "metadata": {},
   "outputs": [],
   "source": [
    "# état courant\n",
    "t = 15"
   ]
  },
  {
   "cell_type": "code",
   "execution_count": 15,
   "metadata": {},
   "outputs": [],
   "source": [
    "res= etat_suivant(t, file)"
   ]
  },
  {
   "cell_type": "code",
   "execution_count": 16,
   "metadata": {},
   "outputs": [
    {
     "name": "stdout",
     "output_type": "stream",
     "text": [
      "Etat courant : 15 \n",
      "\n",
      "Somme cumulative pour l'état courant:  [0.         0.02585459 0.02618187 0.06218193 0.22025494 0.30698237\n",
      " 0.31385511 0.41694621 0.41760076 0.45065536 0.452619   0.46210993\n",
      " 0.46914631 0.46996449 0.4771645  0.53001914 0.53018278 0.53051005\n",
      " 0.53083733 0.58074651 0.68121942 0.68645579 0.69136489 0.69152853\n",
      " 0.69234671 0.70576492 0.70578128 1.        ] \n",
      "\n",
      "Nombre aléatoire dans [0,1] : r = 0.8027455049674436 \n",
      "\n"
     ]
    }
   ],
   "source": [
    "# Affichage\n",
    "print(\"Etat courant :\", t, \"\\n\")\n",
    "print(\"Somme cumulative pour l'état courant: \", res[0],\"\\n\")\n",
    "print(\"Nombre aléatoire dans [0,1] : r =\", res[1], \"\\n\")"
   ]
  },
  {
   "cell_type": "code",
   "execution_count": 17,
   "metadata": {},
   "outputs": [
    {
     "data": {
      "image/png": "[encoded data removed]",
      "text/plain": [
       "<Figure size 864x576 with 1 Axes>"
      ]
     },
     "metadata": {
      "needs_background": "light"
     },
     "output_type": "display_data"
    }
   ],
   "source": [
    "plt.figure(figsize=(12, 8))\n",
    "plt.plot(np.arange(1,29), res[0])\n",
    "plt.ylabel(\"Probabilité\")\n",
    "plt.xlabel(\"Etat\")\n",
    "plt.title(\"Fonction de répartition depuis l'état courant \")\n",
    "plt.grid()"
   ]
  },
  {
   "cell_type": "code",
   "execution_count": 18,
   "metadata": {},
   "outputs": [
    {
     "name": "stdout",
     "output_type": "stream",
     "text": [
      "Etat suivant : 28\n"
     ]
    }
   ],
   "source": [
    "print(\"Etat suivant :\", res[2])"
   ]
  },
  {
   "cell_type": "markdown",
   "metadata": {},
   "source": [
    "#### générer une séquence d’états jusqu’à aboutir à l’état final (28)"
   ]
  },
  {
   "cell_type": "code",
   "execution_count": 19,
   "metadata": {},
   "outputs": [],
   "source": [
    "def genere_state_seq(A, i):\n",
    "    \n",
    "    seq = [i]\n",
    "    \n",
    "    # Génération des états suivants jusqu'à tomber sur l'état final\n",
    "    while seq[-1] != A.shape[0]:\n",
    "        next_etat = etat_suivant(seq[-1], A)[2]\n",
    "        seq.append(next_etat)\n",
    "    \n",
    "    return seq"
   ]
  },
  {
   "cell_type": "code",
   "execution_count": 20,
   "metadata": {},
   "outputs": [
    {
     "data": {
      "text/plain": [
       "[10, 21, 6, 2, 15, 5, 2, 15, 28]"
      ]
     },
     "execution_count": 20,
     "metadata": {},
     "output_type": "execute_result"
    }
   ],
   "source": [
    "genere_state_seq(file,10)"
   ]
  },
  {
   "cell_type": "markdown",
   "metadata": {},
   "source": [
    "#### Transformer une séquence d’états en séquence de caractères"
   ]
  },
  {
   "cell_type": "code",
   "execution_count": 21,
   "metadata": {},
   "outputs": [],
   "source": [
    "def display_seq(state_seq, dic):\n",
    "    char_seq = [dic[str(q)] for q in state_seq]\n",
    "    return ''.join(char_seq)"
   ]
  },
  {
   "cell_type": "code",
   "execution_count": 22,
   "metadata": {},
   "outputs": [
    {
     "name": "stdout",
     "output_type": "stream",
     "text": [
      "Exemples de mots générés :\n",
      "apouthanstis  <== [2, 17, 16, 22, 21, 9, 2, 15, 20, 21, 10, 20, 28]\n",
      "ananglavithint  <== [2, 15, 2, 15, 8, 13, 2, 23, 10, 21, 9, 10, 15, 21, 28]\n",
      "athe  <== [2, 21, 9, 6, 28]\n",
      "ade  <== [2, 5, 6, 28]\n",
      "aturinons  <== [2, 21, 22, 19, 10, 15, 16, 15, 20, 28]\n"
     ]
    }
   ],
   "source": [
    "# Test de génération de mots\n",
    "nb_mots = 5 \n",
    "\n",
    "print(\"Exemples de mots générés :\")\n",
    "for i in range(nb_mots):\n",
    "    state_seq = genere_state_seq(file, 2)\n",
    "    char_seq = display_seq(state_seq, dic)\n",
    "    print(char_seq, \"<==\", state_seq)"
   ]
  },
  {
   "cell_type": "markdown",
   "metadata": {},
   "source": [
    "### I.2.c Générer une phrase "
   ]
  },
  {
   "cell_type": "code",
   "execution_count": 23,
   "metadata": {},
   "outputs": [],
   "source": [
    "def modifie_mat_dic(A, dic):\n",
    "    \n",
    "    '''\n",
    "    Fonction qui rajoute un état : 'etat final de phrase' à une matrice de transition A et un dictionnaire\n",
    "    '''\n",
    "    \n",
    "    # Modification de A\n",
    "    # -----------------\n",
    "    A_modif = np.zeros((A.shape[0]+1, A.shape[1]+1))\n",
    "    \n",
    "    # gardons les 27 premières lignes de A avec des probabilités identiques\n",
    "    A_modif[0:27, 0:28] = A[0:27, 0:28]\n",
    "    \n",
    "    # probabilité de passer d'un 'état final de mot' à un 'état initial de mot'\n",
    "    A_modif[27, 0] = 0.9\n",
    "    \n",
    "    # probbilité de passer d'un 'état final de mot' à un 'état final de phrase'\n",
    "    A_modif[27, 28] = 0.1\n",
    "    \n",
    "    # probabilité de passer d'un 'état final de phrase' à un 'état final de phrase'\n",
    "    A_modif[-1, -1] = 1\n",
    "    \n",
    "    \n",
    "    # Modification du dictionnaire\n",
    "    # ----------------------------\n",
    "    dic_modif = dic.copy()\n",
    "    dic_modif['29'] = '.'\n",
    "    \n",
    "    return A_modif, dic_modif"
   ]
  },
  {
   "cell_type": "code",
   "execution_count": 24,
   "metadata": {},
   "outputs": [],
   "source": [
    "file_modif, dic_modif = modifie_mat_dic(file, dic)"
   ]
  },
  {
   "cell_type": "code",
   "execution_count": 25,
   "metadata": {},
   "outputs": [
    {
     "data": {
      "text/plain": [
       "{'1': ' ',\n",
       " '2': 'a',\n",
       " '3': 'b',\n",
       " '4': 'c',\n",
       " '5': 'd',\n",
       " '6': 'e',\n",
       " '7': 'f',\n",
       " '8': 'g',\n",
       " '9': 'h',\n",
       " '10': 'i',\n",
       " '11': 'j',\n",
       " '12': 'k',\n",
       " '13': 'l',\n",
       " '14': 'm',\n",
       " '15': 'n',\n",
       " '16': 'o',\n",
       " '17': 'p',\n",
       " '18': 'q',\n",
       " '19': 'r',\n",
       " '20': 's',\n",
       " '21': 't',\n",
       " '22': 'u',\n",
       " '23': 'v',\n",
       " '24': 'w',\n",
       " '25': 'x',\n",
       " '26': 'y',\n",
       " '27': 'z',\n",
       " '28': ' ',\n",
       " '29': '.'}"
      ]
     },
     "execution_count": 25,
     "metadata": {},
     "output_type": "execute_result"
    }
   ],
   "source": [
    "dic_modif"
   ]
  },
  {
   "cell_type": "markdown",
   "metadata": {},
   "source": [
    "#### Donner des exemples de phrases générées"
   ]
  },
  {
   "cell_type": "code",
   "execution_count": 26,
   "metadata": {},
   "outputs": [
    {
     "name": "stdout",
     "output_type": "stream",
     "text": [
      "comesup  st  relyt .\n",
      "\n",
      "cof  ha .\n",
      "\n",
      "curnida  head  thagrond  whecon  s  sed  herephe  cefre .\n",
      "\n",
      "ce  mangrsre  deercanveacr  an  aio  atheson  onvis  t .\n",
      "\n",
      "ce .\n",
      "\n"
     ]
    }
   ],
   "source": [
    "# Test de génération de phrases\n",
    "nbre_phrases = 5\n",
    "\n",
    "for i in range(nbre_phrases):\n",
    "    phrase = display_seq(genere_state_seq(file_modif,4), dic_modif)\n",
    "    print(phrase + \"\\n\")"
   ]
  },
  {
   "cell_type": "markdown",
   "metadata": {},
   "source": [
    "### I.3. Reconnaissance de la langue"
   ]
  },
  {
   "cell_type": "code",
   "execution_count": 27,
   "metadata": {},
   "outputs": [],
   "source": [
    "filename_B= 'bigramfrancais.txt'\n",
    "file_fr = np.loadtxt(filename_B)"
   ]
  },
  {
   "cell_type": "code",
   "execution_count": 28,
   "metadata": {},
   "outputs": [],
   "source": [
    "file_modif_fr, dic_modif = modifie_mat_dic(file_fr, dic)"
   ]
  },
  {
   "cell_type": "code",
   "execution_count": 29,
   "metadata": {},
   "outputs": [
    {
     "data": {
      "text/plain": [
       "(29, 29)"
      ]
     },
     "execution_count": 29,
     "metadata": {},
     "output_type": "execute_result"
    }
   ],
   "source": [
    "file_modif_fr.shape"
   ]
  },
  {
   "cell_type": "code",
   "execution_count": 30,
   "metadata": {},
   "outputs": [
    {
     "name": "stdout",
     "output_type": "stream",
     "text": [
      "atens  noifass  leliqutigigrmmbamer  denie  prenstron  derebia  pa  fop  elendivee  derese  conu  che  enoue .\n",
      "\n",
      "at  etermpoumeu  lespan  livenets  coibrie  gencticetaummpe  ner  somepr  de  delemalions .\n",
      "\n",
      "apara  nasonononoun  lirence .\n",
      "\n",
      "ates  de  pargueunsanon  e  aitinon  ticome  lebretynt  de  pommeme  diequre  dogne  dedmemmeuroitel  a .\n",
      "\n",
      "as  riate  prounfaves  diqume  parestres  pes .\n",
      "\n"
     ]
    }
   ],
   "source": [
    "# Test de génération de phrases\n",
    "nbre_phrases = 5\n",
    "\n",
    "for i in range(nbre_phrases):\n",
    "    phrase = display_seq(genere_state_seq(file_modif_fr,2), dic_modif)\n",
    "    print(phrase + \"\\n\")"
   ]
  },
  {
   "cell_type": "markdown",
   "metadata": {},
   "source": [
    "#### Ecrire une fonction qui calcule la vraisemblance du modèle français pour une phrase donnée"
   ]
  },
  {
   "cell_type": "code",
   "execution_count": 31,
   "metadata": {},
   "outputs": [
    {
     "name": "stdout",
     "output_type": "stream",
     "text": [
      "Dictionnaire pour le calcul de la vraisemblance:\n",
      " {'1': '-', '2': 'a', '3': 'b', '4': 'c', '5': 'd', '6': 'e', '7': 'f', '8': 'g', '9': 'h', '10': 'i', '11': 'j', '12': 'k', '13': 'l', '14': 'm', '15': 'n', '16': 'o', '17': 'p', '18': 'q', '19': 'r', '20': 's', '21': 't', '22': 'u', '23': 'v', '24': 'w', '25': 'x', '26': 'y', '27': 'z', '28': '+', '29': '.'} \n",
      "\n"
     ]
    }
   ],
   "source": [
    "# Nouvelle modification du dictionnaire pour pouvoir identifier 'début de mot' et 'fin de mot'\n",
    "dic_modif_vrais = dic_modif.copy()\n",
    "dic_modif_vrais['1'] = '-'  # début de mot ==> '-'\n",
    "dic_modif_vrais['28'] = '+'  # fin de mot ==> '+'\n",
    "print(\"Dictionnaire pour le calcul de la vraisemblance:\\n\", dic_modif_vrais, \"\\n\")\n",
    "\n",
    "#print(\"Vérification avec une phrase du modèle francais:\")\n",
    "#print(display_seq(genere_state_seq(file_modif_fr,1), dic_modif_vrais))"
   ]
  },
  {
   "cell_type": "code",
   "execution_count": 32,
   "metadata": {},
   "outputs": [],
   "source": [
    "def formatage_phrase(phrase):\n",
    "    format_phrase = '-'\n",
    "    for char in phrase:\n",
    "        if char == ' ':\n",
    "            format_phrase += '+'\n",
    "            format_phrase += '-'\n",
    "        elif char == '.':\n",
    "            format_phrase += '+'\n",
    "            format_phrase += char\n",
    "        else:\n",
    "            format_phrase += char\n",
    "    return format_phrase"
   ]
  },
  {
   "cell_type": "code",
   "execution_count": 33,
   "metadata": {},
   "outputs": [],
   "source": [
    "def calc_vraisemblance(phrase, A, dic):\n",
    "    \n",
    "    # Inversion du dictionnaire\n",
    "    dic_inv = {v: k for k, v in dic.items()}\n",
    "    \n",
    "    # Transformation Sentence --> state_sequence\n",
    "    state_seq = [int(dic_inv[c]) for c in formatage_phrase(phrase)]\n",
    "\n",
    "    # Calcul de la vraisemblance\n",
    "    vraisemblance = 1 \n",
    "    for idx, t in enumerate(state_seq[:-1]):\n",
    "        t_plus = state_seq[idx + 1]\n",
    "        vraisemblance *= A[t-1, t_plus-1]  \n",
    "    \n",
    "    return vraisemblance"
   ]
  },
  {
   "cell_type": "markdown",
   "metadata": {},
   "source": [
    "#### Calculer la vraisemblance des modèles français et anglais pour la phrase « to be or not to be »"
   ]
  },
  {
   "cell_type": "code",
   "execution_count": 34,
   "metadata": {},
   "outputs": [
    {
     "name": "stdout",
     "output_type": "stream",
     "text": [
      "Phrase à formatter : to be or not to be.\n",
      "Après formattage : -to+-be+-or+-not+-to+-be+.\n"
     ]
    }
   ],
   "source": [
    "phrase_test_eng = 'to be or not to be.'\n",
    "print(\"Phrase à formatter :\", phrase_test_eng)\n",
    "print(\"Après formattage :\", formatage_phrase(phrase_test_eng))"
   ]
  },
  {
   "cell_type": "code",
   "execution_count": 35,
   "metadata": {},
   "outputs": [
    {
     "name": "stdout",
     "output_type": "stream",
     "text": [
      "==> Vraisemblance en anglais: 8.112892227809415e-20\n",
      "==> Vraisemblance en français: 5.9602081018686406e-30\n"
     ]
    }
   ],
   "source": [
    "vraisemblance_eng = calc_vraisemblance(phrase_test_eng, file_modif, dic_modif_vrais)\n",
    "vrainsemblance_french = calc_vraisemblance(phrase_test_eng, file_modif_fr, dic_modif_vrais)\n",
    "print(\"==> Vraisemblance en anglais:\", vraisemblance_eng)\n",
    "print(\"==> Vraisemblance en français:\", vrainsemblance_french)"
   ]
  },
  {
   "cell_type": "markdown",
   "metadata": {},
   "source": [
    "Pour la phrase **« to be or not to be »**, la vraisemblance du **modèle anglais** est beaucoup plus élevée que celle du **modèle français.**"
   ]
  },
  {
   "cell_type": "markdown",
   "metadata": {},
   "source": [
    "#### Calculer la vraisemblance des modèles français et anglais pour la phrase « etre ou ne pas etre»"
   ]
  },
  {
   "cell_type": "code",
   "execution_count": 36,
   "metadata": {},
   "outputs": [
    {
     "name": "stdout",
     "output_type": "stream",
     "text": [
      "Phrase à formatter : etre ou ne pas etre.\n",
      "Après formattage : -etre+-ou+-ne+-pas+-etre+.\n"
     ]
    }
   ],
   "source": [
    "phrase_test_fr = 'etre ou ne pas etre.'\n",
    "print(\"Phrase à formatter :\", phrase_test_fr)\n",
    "print(\"Après formattage :\", formatage_phrase(phrase_test_fr))"
   ]
  },
  {
   "cell_type": "code",
   "execution_count": 37,
   "metadata": {},
   "outputs": [
    {
     "name": "stdout",
     "output_type": "stream",
     "text": [
      "==> Vraisemblance en anglais: 4.462288711775253e-24\n",
      "==> Vraisemblance en français: 1.145706887234789e-19\n"
     ]
    }
   ],
   "source": [
    "vraisemblance_eng = calc_vraisemblance(phrase_test_fr, file_modif, dic_modif_vrais)\n",
    "vrainsemblance_french = calc_vraisemblance(phrase_test_fr, file_modif_fr, dic_modif_vrais)\n",
    "print(\"==> Vraisemblance en anglais:\", vraisemblance_eng)\n",
    "print(\"==> Vraisemblance en français:\", vrainsemblance_french)"
   ]
  },
  {
   "cell_type": "markdown",
   "metadata": {},
   "source": [
    "Pour la phrase **«etre ou ne pas etre »**, la vraisemblance du **modèle français** est beaucoup plus élevée que celle du **modèle anglais.**"
   ]
  },
  {
   "cell_type": "markdown",
   "metadata": {},
   "source": [
    "Notre modèle arrive donc bien à distinguer les phrases en Français de celles en Anglais."
   ]
  },
  {
   "cell_type": "markdown",
   "metadata": {},
   "source": [
    "## Partie II (bonus): généreration des séquences d’observations "
   ]
  },
  {
   "cell_type": "code",
   "execution_count": 38,
   "metadata": {},
   "outputs": [],
   "source": [
    "filename='matrice_symboles.txt'\n",
    "symboles=np.loadtxt(filename) "
   ]
  },
  {
   "cell_type": "code",
   "execution_count": 39,
   "metadata": {},
   "outputs": [
    {
     "data": {
      "text/plain": [
       "array([[0., 1., 0., 0., 0., 0., 1., 1., 1., 1., 0., 0., 0., 0., 0., 0.,\n",
       "        1., 1., 1., 1., 1., 1., 0., 0., 0., 0., 1., 1., 1., 0., 1., 1.],\n",
       "       [0., 0., 1., 0., 0., 0., 1., 0., 0., 0., 1., 1., 1., 0., 0., 0.,\n",
       "        1., 1., 1., 0., 0., 0., 1., 1., 1., 0., 1., 1., 1., 1., 0., 1.],\n",
       "       [0., 0., 0., 1., 0., 0., 0., 1., 0., 0., 1., 0., 0., 1., 1., 0.,\n",
       "        1., 0., 0., 1., 1., 0., 1., 0., 1., 1., 1., 0., 1., 1., 1., 1.],\n",
       "       [0., 0., 0., 0., 1., 0., 0., 0., 1., 0., 0., 1., 0., 1., 0., 1.,\n",
       "        0., 1., 0., 1., 0., 1., 1., 1., 0., 1., 1., 1., 0., 1., 1., 1.],\n",
       "       [0., 0., 0., 0., 0., 1., 0., 0., 0., 1., 0., 0., 1., 0., 1., 1.,\n",
       "        0., 0., 1., 0., 1., 1., 0., 1., 1., 1., 0., 1., 1., 1., 1., 1.]])"
      ]
     },
     "execution_count": 39,
     "metadata": {},
     "output_type": "execute_result"
    }
   ],
   "source": [
    "symboles"
   ]
  },
  {
   "cell_type": "code",
   "execution_count": 40,
   "metadata": {},
   "outputs": [
    {
     "data": {
      "image/png": "[encoded data removed]",
      "text/plain": [
       "<Figure size 432x288 with 1 Axes>"
      ]
     },
     "metadata": {
      "needs_background": "light"
     },
     "output_type": "display_data"
    }
   ],
   "source": [
    "plt.imshow(symboles)\n",
    "plt.yticks(range(5))\n",
    "plt.show()"
   ]
  },
  {
   "cell_type": "code",
   "execution_count": 41,
   "metadata": {},
   "outputs": [],
   "source": [
    "A=np.loadtxt('A0.txt')"
   ]
  },
  {
   "cell_type": "code",
   "execution_count": 42,
   "metadata": {},
   "outputs": [
    {
     "data": {
      "text/plain": [
       "array([[ 0.84178118,  0.15821882, -0.        , -0.        , -0.        ],\n",
       "       [-0.        ,  0.7886163 ,  0.2113837 , -0.        , -0.        ],\n",
       "       [-0.        , -0.        ,  0.86339743,  0.13660257, -0.        ],\n",
       "       [-0.        , -0.        , -0.        ,  0.79150194,  0.20849806],\n",
       "       [-0.        , -0.        , -0.        , -0.        ,  1.        ]])"
      ]
     },
     "execution_count": 42,
     "metadata": {},
     "output_type": "execute_result"
    }
   ],
   "source": [
    "A"
   ]
  },
  {
   "cell_type": "code",
   "execution_count": 43,
   "metadata": {},
   "outputs": [],
   "source": [
    "B=np.loadtxt('B0.txt')"
   ]
  },
  {
   "cell_type": "code",
   "execution_count": 44,
   "metadata": {},
   "outputs": [
    {
     "data": {
      "text/plain": [
       "(32, 5)"
      ]
     },
     "execution_count": 44,
     "metadata": {},
     "output_type": "execute_result"
    }
   ],
   "source": [
    "B.shape"
   ]
  },
  {
   "cell_type": "code",
   "execution_count": 45,
   "metadata": {},
   "outputs": [],
   "source": [
    "vect_p0=np.loadtxt('vect_pi0.txt')"
   ]
  },
  {
   "cell_type": "code",
   "execution_count": 46,
   "metadata": {},
   "outputs": [
    {
     "data": {
      "text/plain": [
       "array([1., 0., 0., 0., 0.])"
      ]
     },
     "execution_count": 46,
     "metadata": {},
     "output_type": "execute_result"
    }
   ],
   "source": [
    "vect_p0"
   ]
  },
  {
   "cell_type": "markdown",
   "metadata": {},
   "source": [
    "### II. 2.1 A quoi correspondent les zéros de la matrice B ? et ceux de la matrice A et du vecteur π ?"
   ]
  },
  {
   "cell_type": "markdown",
   "metadata": {},
   "source": [
    "- Les **0** de la matrice **B** correspondent aux **observations impossibles** pour des images de chiffres en étant dans un des 5 états cachés du modèle.\n",
    "\n",
    "- Les zéros de la matrice **A** correspondent aux **transitions impossibles** des états cachés d'une image de 0.\n",
    "\n",
    "- Les zéros du vecteur **$\\pi$** correspondent aux **états initiaux impossibles**."
   ]
  },
  {
   "cell_type": "markdown",
   "metadata": {},
   "source": [
    "### II.2.2 Afficher la fonction de répartition"
   ]
  },
  {
   "cell_type": "code",
   "execution_count": 47,
   "metadata": {},
   "outputs": [],
   "source": [
    "def etat_suivant(t, A):\n",
    "    \n",
    "    if (t >= 1 and t <= A.shape[0]):\n",
    "        # Somme cumulée des transitions pour l'état t\n",
    "        sum_cum_A_t = np.cumsum(A[t-1])  \n",
    "    \n",
    "        # Tirage d'un nombre aléatoire dans [0,1] selon une loi uniforme\n",
    "        r = np.random.random()\n",
    "    \n",
    "        # Trouve la transition correspondante\n",
    "        t_plus_1 = sum((sum_cum_A_t < r)) + 1\n",
    "    \n",
    "    return sum_cum_A_t, r, t_plus_1"
   ]
  },
  {
   "cell_type": "code",
   "execution_count": 48,
   "metadata": {},
   "outputs": [],
   "source": [
    "q=2\n",
    "res_mnist = etat_suivant(q,A)"
   ]
  },
  {
   "cell_type": "code",
   "execution_count": 49,
   "metadata": {},
   "outputs": [
    {
     "name": "stdout",
     "output_type": "stream",
     "text": [
      "Etat courant : 1 \n",
      "\n",
      "Somme cumulative pour l'état courant:  [0.84178118 1.         1.         1.         1.        ] \n",
      "\n",
      "Nombre aléatoire dans [0,1] : r = 0.2016087664220937 \n",
      "\n",
      "Etat courant : 2 \n",
      "\n",
      "Somme cumulative pour l'état courant:  [-0.         0.7886163  1.         1.         1.       ] \n",
      "\n",
      "Nombre aléatoire dans [0,1] : r = 0.6195713391986469 \n",
      "\n",
      "Etat courant : 3 \n",
      "\n",
      "Somme cumulative pour l'état courant:  [-0.         -0.          0.86339743  1.          1.        ] \n",
      "\n",
      "Nombre aléatoire dans [0,1] : r = 0.003934847968602662 \n",
      "\n",
      "Etat courant : 4 \n",
      "\n",
      "Somme cumulative pour l'état courant:  [-0.         -0.         -0.          0.79150194  1.        ] \n",
      "\n",
      "Nombre aléatoire dans [0,1] : r = 0.5523237750045212 \n",
      "\n",
      "Etat courant : 5 \n",
      "\n",
      "Somme cumulative pour l'état courant:  [-0. -0. -0. -0.  1.] \n",
      "\n",
      "Nombre aléatoire dans [0,1] : r = 0.10677461626818097 \n",
      "\n"
     ]
    }
   ],
   "source": [
    "# Affichage\n",
    "q_arr = [1,2,3,4,5]\n",
    "for q in q_arr:\n",
    "    res_mnist = etat_suivant(q,A)\n",
    "    print(\"Etat courant :\", q, \"\\n\")\n",
    "    print(\"Somme cumulative pour l'état courant: \", res_mnist[0],\"\\n\")\n",
    "    print(\"Nombre aléatoire dans [0,1] : r =\", res_mnist[1], \"\\n\")"
   ]
  },
  {
   "cell_type": "code",
   "execution_count": 50,
   "metadata": {},
   "outputs": [
    {
     "data": {
      "image/png": "[encoded data removed]",
      "text/plain": [
       "<Figure size 864x576 with 1 Axes>"
      ]
     },
     "metadata": {
      "needs_background": "light"
     },
     "output_type": "display_data"
    }
   ],
   "source": [
    "plt.figure(figsize=(12, 8))\n",
    "for q in q_arr:\n",
    "    res_mnist = etat_suivant(q,A)\n",
    "    plt.plot(np.arange(1,6), res_mnist[0], label=\"Etat caché \"+ str(q))\n",
    "    plt.ylabel(\"Probabilité\")\n",
    "    plt.xlabel(\"Etat\")\n",
    "    plt.title(\"Fonction de répartition depuis l'état courant \")\n",
    "    plt.grid()\n",
    "    plt.legend()"
   ]
  },
  {
   "cell_type": "markdown",
   "metadata": {},
   "source": [
    "- Les fonctions de répartitions des transitions permettent de générer à un instant **t** un état à **t+1** en tirant un nombre aléatoire suivant la loi de probabilité définie (avec une méthode de Monte Carlo par exemple). "
   ]
  },
  {
   "cell_type": "markdown",
   "metadata": {},
   "source": [
    "### II.2.3 Générer une séquence d’observations suivant le modèle de Markov Caché du chiffre 0"
   ]
  },
  {
   "cell_type": "code",
   "execution_count": 51,
   "metadata": {},
   "outputs": [],
   "source": [
    "def obs_suivant(t, B):\n",
    "    cum_B = np.cumsum(B, axis=0)\n",
    "    random_num = np.random.random()\n",
    "    generated_ind_B = np.where(cum_B[:, t] > random_num)[0][0] \n",
    "    \n",
    "    return generated_ind_B"
   ]
  },
  {
   "cell_type": "code",
   "execution_count": 52,
   "metadata": {},
   "outputs": [],
   "source": [
    "def genere_state_seq(A, i):\n",
    "    \n",
    "    seq = [i]\n",
    "    size_image = 28\n",
    "    # Génération des états suivants jusqu'à tomber sur l'état final\n",
    "    for k in range(size_image-1):\n",
    "        next_etat = etat_suivant(seq[-1], A)[2]\n",
    "        seq.append(next_etat)\n",
    "    \n",
    "    return seq"
   ]
  },
  {
   "cell_type": "markdown",
   "metadata": {},
   "source": [
    "-  Exemple de séquence"
   ]
  },
  {
   "cell_type": "code",
   "execution_count": 53,
   "metadata": {},
   "outputs": [
    {
     "name": "stdout",
     "output_type": "stream",
     "text": [
      "[1, 1, 1, 1, 2, 2, 2, 2, 2, 2, 2, 2, 2, 3, 4, 4, 4, 5, 5, 5, 5, 5, 5, 5, 5, 5, 5, 5]\n"
     ]
    }
   ],
   "source": [
    "hidden_sequence = genere_state_seq(A,1)\n",
    "print(hidden_sequence)"
   ]
  },
  {
   "cell_type": "code",
   "execution_count": 54,
   "metadata": {},
   "outputs": [],
   "source": [
    "def genere_obs_seq(B, hidden_sequence):\n",
    "    obs = []\n",
    "    \n",
    "    for k in range(len(hidden_sequence)):\n",
    "        next_obs = obs_suivant(hidden_sequence[k]-1, B)\n",
    "        obs.append(next_obs)\n",
    "        \n",
    "    return obs\n",
    "\n",
    "def show_generated_image(observations):\n",
    "    return symboles.T[observations].T"
   ]
  },
  {
   "cell_type": "code",
   "execution_count": 55,
   "metadata": {},
   "outputs": [],
   "source": [
    "observations = genere_obs_seq(B, hidden_sequence)"
   ]
  },
  {
   "cell_type": "code",
   "execution_count": 56,
   "metadata": {},
   "outputs": [
    {
     "name": "stdout",
     "output_type": "stream",
     "text": [
      "[0, 0, 0, 0, 22, 13, 22, 22, 13, 22, 23, 13, 13, 11, 22, 22, 3, 0, 0, 0, 0, 0, 0, 0, 0, 0, 0, 0]\n"
     ]
    }
   ],
   "source": [
    "print(observations)"
   ]
  },
  {
   "cell_type": "code",
   "execution_count": 57,
   "metadata": {},
   "outputs": [
    {
     "data": {
      "image/png": "[encoded data removed]",
      "text/plain": [
       "<Figure size 432x288 with 1 Axes>"
      ]
     },
     "metadata": {
      "needs_background": "light"
     },
     "output_type": "display_data"
    }
   ],
   "source": [
    "plt.imshow(show_generated_image(observations)*255, cmap='gray', aspect='auto')\n",
    "plt.title('génération de 0')\n",
    "plt.show()"
   ]
  },
  {
   "cell_type": "code",
   "execution_count": 58,
   "metadata": {},
   "outputs": [],
   "source": [
    "A = {i: np.loadtxt('A' + str(i) + '.txt') for i in [0, 1, 7]}\n",
    "B = {i: np.loadtxt('B' + str(i) + '.txt') for i in [0, 1, 7]}"
   ]
  },
  {
   "cell_type": "code",
   "execution_count": 59,
   "metadata": {},
   "outputs": [
    {
     "data": {
      "image/png": "[encoded data removed]",
      "text/plain": [
       "<Figure size 864x864 with 9 Axes>"
      ]
     },
     "metadata": {
      "needs_background": "light"
     },
     "output_type": "display_data"
    }
   ],
   "source": [
    "chiffres = [0,1,7]\n",
    "plt.figure(figsize = (12, 12))\n",
    "for i in range(3):\n",
    "    for j in range(3):\n",
    "        plt.subplot(3, 3, 3*i + j+1)\n",
    "        hidden_sequence = genere_state_seq(A[chiffres[j]],1)\n",
    "        observations = genere_obs_seq(B[chiffres[j]], hidden_sequence)\n",
    "        plt.imshow(show_generated_image(observations)*255, cmap='gray', aspect='auto')\n",
    "        if i == 0:\n",
    "            plt.title('génération '+str(chiffres[j]))\n",
    "plt.show()"
   ]
  },
  {
   "cell_type": "markdown",
   "metadata": {},
   "source": [
    "### II.3. Calcul de la vraisemblance de séquences d’observations"
   ]
  },
  {
   "cell_type": "code",
   "execution_count": 60,
   "metadata": {},
   "outputs": [],
   "source": [
    "TestChiffres = {i: np.loadtxt('SeqTest' + str(i) + '.txt').astype('uint8')-1 for i in [0, 1, 7]}"
   ]
  },
  {
   "cell_type": "code",
   "execution_count": 61,
   "metadata": {},
   "outputs": [
    {
     "data": {
      "text/plain": [
       "array([ 0,  0,  0,  0,  0,  0, 13, 13, 13, 22, 11, 11, 11, 11, 17, 17, 17,\n",
       "       17, 17, 17, 22, 22, 13,  0,  0,  0,  0,  0], dtype=uint8)"
      ]
     },
     "execution_count": 61,
     "metadata": {},
     "output_type": "execute_result"
    }
   ],
   "source": [
    "TestChiffres[0][0]"
   ]
  },
  {
   "cell_type": "code",
   "execution_count": 62,
   "metadata": {},
   "outputs": [
    {
     "data": {
      "image/png": "[encoded data removed]",
      "text/plain": [
       "<Figure size 1584x432 with 30 Axes>"
      ]
     },
     "metadata": {
      "needs_background": "light"
     },
     "output_type": "display_data"
    }
   ],
   "source": [
    "plt.figure(figsize=(22, 6))\n",
    "chiffres = [0, 1, 7]\n",
    "for i in range(3):\n",
    "    figures = TestChiffres[chiffres[i]]\n",
    "    for j in range(figures.shape[0]):\n",
    "        plt.subplot(3, 10, i*10 + j + 1)\n",
    "        generated_image = show_generated_image(figures[j, :])\n",
    "        plt.imshow(generated_image*255, cmap='gray', aspect='auto')\n",
    "        plt.axis('off')\n",
    "plt.show()"
   ]
  },
  {
   "cell_type": "markdown",
   "metadata": {},
   "source": [
    "### II.3.1 Calculer la vraisemblance (0, 1 et 7) par l’algorithme de Viterbi"
   ]
  },
  {
   "cell_type": "code",
   "execution_count": 63,
   "metadata": {},
   "outputs": [],
   "source": [
    "def forward(O, A, B, pi):\n",
    "    n_observations = O.shape[0]\n",
    "    n_states = A.shape[0]\n",
    "    initial_state = np.where(pi != 0)[0][0]\n",
    "    \n",
    "    \n",
    "    phi = np.zeros((n_states, n_observations), dtype='int')\n",
    "    delta = np.zeros((n_states, n_observations))\n",
    "    \n",
    "    phi[:, 0] = np.repeat(initial_state, n_states)\n",
    "    delta[:, 0] = B[O[0], range(n_states)].T\n",
    "    \n",
    "    for i in range(1, n_observations):\n",
    "        delta[:, i] = B[O[i], :].T * np.max(np.dot(A.T, np.diag(delta[:, i - 1])))\n",
    "        phi[:, i] = np.argmax(np.dot(A.T, np.diag(delta[:, i - 1])))\n",
    "        \n",
    "    return n_observations, delta, phi"
   ]
  },
  {
   "cell_type": "code",
   "execution_count": 64,
   "metadata": {},
   "outputs": [],
   "source": [
    "def forward_log(O, A, B, pi):\n",
    "    log_A = np.log(A+1e-100)\n",
    "    log_B = np.log(B+1e-100)\n",
    "    n_observations = O.shape[0]\n",
    "    n_states = A.shape[0]\n",
    "    initial_state = np.where(pi != 0)[0][0]\n",
    "    \n",
    "    \n",
    "    phi = np.zeros((n_states, n_observations), dtype='int')\n",
    "    delta = np.zeros((n_states, n_observations))\n",
    "    \n",
    "    phi[:, 0] = np.repeat(initial_state, n_states)\n",
    "    delta[:, 0] = log_B[O[0], range(n_states)].T\n",
    "    \n",
    "    for i in range(1, n_observations):\n",
    "        delta[:, i] = log_B[O[i], :].T + np.max(log_A.T + np.repeat(delta[:, i - 1], n_states).reshape(n_states,n_states).T, axis=1)\n",
    "        phi[:, i] = np.argmax(log_A.T + np.repeat(delta[:, i - 1],n_states).reshape(n_states, n_states).T, axis=1)\n",
    "        \n",
    "    return n_observations, delta, phi"
   ]
  },
  {
   "cell_type": "code",
   "execution_count": 65,
   "metadata": {},
   "outputs": [],
   "source": [
    "def backward(n_observations, delta, phi):\n",
    "    \n",
    "    hidden_states = np.zeros(n_observations, dtype='int')\n",
    "    hidden_states[-1] = np.argmax(delta[:, -1], axis=0)\n",
    "\n",
    "    for i in range(n_observations - 2,  -1,  -1):\n",
    "        hidden_states[i] = phi[hidden_states[i + 1], i + 1]\n",
    "\n",
    "    return hidden_states "
   ]
  },
  {
   "cell_type": "markdown",
   "metadata": {},
   "source": [
    "- Calcul des vraisemblances des séquences"
   ]
  },
  {
   "cell_type": "code",
   "execution_count": 66,
   "metadata": {},
   "outputs": [],
   "source": [
    "pi = vect_p0\n",
    "n_observations, delta, phi = forward_log(TestChiffres[chiffres[0]][0], A[0], B[0], pi)"
   ]
  },
  {
   "cell_type": "code",
   "execution_count": 67,
   "metadata": {},
   "outputs": [],
   "source": [
    "hidden_states = backward(n_observations, delta, phi)"
   ]
  },
  {
   "cell_type": "code",
   "execution_count": 68,
   "metadata": {},
   "outputs": [
    {
     "data": {
      "text/plain": [
       "array([0, 0, 0, 0, 0, 0, 1, 1, 1, 1, 2, 2, 2, 2, 2, 2, 2, 2, 2, 2, 3, 3,\n",
       "       3, 4, 4, 4, 4, 4])"
      ]
     },
     "execution_count": 68,
     "metadata": {},
     "output_type": "execute_result"
    }
   ],
   "source": [
    "hidden_states"
   ]
  },
  {
   "cell_type": "code",
   "execution_count": 69,
   "metadata": {},
   "outputs": [
    {
     "data": {
      "image/png": "[encoded data removed]",
      "text/plain": [
       "<Figure size 1440x432 with 3 Axes>"
      ]
     },
     "metadata": {
      "needs_background": "light"
     },
     "output_type": "display_data"
    }
   ],
   "source": [
    "plt.figure(figsize=(20, 6))\n",
    "log_vraisemblance = []\n",
    "chiffres = [0, 1, 7]\n",
    "for i in range(3):\n",
    "    figures = TestChiffres[chiffres[i]]\n",
    "    plt.subplot(1, 3, i + 1)\n",
    "    for j in range(figures.shape[0]):    \n",
    "        n_observations, delta, phi = forward_log(figures[j], A[chiffres[i]], B[chiffres[i]], pi)        \n",
    "        log_vraisemblance.append(-[np.max(delta[:, -1])][0])\n",
    "        \n",
    "    plt.title(f\"Log de Vraisemblance négative pour {chiffres[i]}\")\n",
    "    plt.bar(x=np.arange(0,10), height=log_vraisemblance)\n",
    "    plt.xticks=range(10)\n",
    "        \n",
    "    log_vraisemblance = []\n"
   ]
  },
  {
   "cell_type": "markdown",
   "metadata": {},
   "source": [
    "### II.3.2. Résultats de classification"
   ]
  },
  {
   "cell_type": "code",
   "execution_count": 70,
   "metadata": {},
   "outputs": [],
   "source": [
    "log_vraisemblances = np.zeros((30, 3))\n",
    "\n",
    "for i in range(3):\n",
    "    figures = TestChiffres[chiffres[i]]\n",
    "    for j in range(figures.shape[0]):\n",
    "        for k in range(3):\n",
    "            n_observations, delta, phi = forward_log(figures[j], A[chiffres[k]], B[chiffres[k]], pi)    \n",
    "            log_vraisemblances[10*i + j, k] = -[np.max(delta[:, -1])][0]"
   ]
  },
  {
   "cell_type": "code",
   "execution_count": 71,
   "metadata": {},
   "outputs": [
    {
     "data": {
      "image/png": "[encoded data removed]",
      "text/plain": [
       "<Figure size 1584x432 with 30 Axes>"
      ]
     },
     "metadata": {
      "needs_background": "light"
     },
     "output_type": "display_data"
    }
   ],
   "source": [
    "plt.figure(figsize=(22, 6))\n",
    "for i in range(3):\n",
    "    figures = TestChiffres[chiffres[i]]\n",
    "    for j in range(figures.shape[0]):\n",
    "        plt.subplot(3, 10, i*10 + j + 1)\n",
    "        generated_image = show_generated_image(figures[j, :])\n",
    "        plt.imshow(generated_image*255, cmap='gray', aspect='auto')\n",
    "        plt.title(f\"True: {chiffres[i]} | pred: {chiffres[np.argmin(log_vraisemblances[10*i + j, :])]}\")\n",
    "        plt.axis('off')\n",
    "plt.show()"
   ]
  },
  {
   "cell_type": "markdown",
   "metadata": {},
   "source": [
    "En considérant le modèle à **3 classes**, le modèle de Markov caché donne de **bonnes prédictions** pour les séquences d’observations discrètes et issues d’images de chiffres de la base MNIST"
   ]
  },
  {
   "cell_type": "code",
   "execution_count": null,
   "metadata": {},
   "outputs": [],
   "source": []
  }
 ],
 "metadata": {
  "kernelspec": {
   "display_name": "Python 3",
   "language": "python",
   "name": "python3"
  },
  "language_info": {
   "codemirror_mode": {
    "name": "ipython",
    "version": 3
   },
   "file_extension": ".py",
   "mimetype": "text/x-python",
   "name": "python",
   "nbconvert_exporter": "python",
   "pygments_lexer": "ipython3",
   "version": "3.7.3"
  }
 },
 "nbformat": 4,
 "nbformat_minor": 2
}
