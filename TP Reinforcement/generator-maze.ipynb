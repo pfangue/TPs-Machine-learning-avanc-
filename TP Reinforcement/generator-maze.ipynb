{
 "cells": [
  {
   "cell_type": "markdown",
   "metadata": {},
   "source": [
    "# Maze generator"
   ]
  },
  {
   "cell_type": "markdown",
   "metadata": {},
   "source": [
    "A random generator of maze."
   ]
  },
  {
   "cell_type": "code",
   "execution_count": 1,
   "metadata": {},
   "outputs": [],
   "source": [
    "import numpy as np\n",
    "from matplotlib import pyplot as plt\n",
    "from scipy import sparse"
   ]
  },
  {
   "cell_type": "code",
   "execution_count": 2,
   "metadata": {},
   "outputs": [],
   "source": [
    "from utils import display_maze"
   ]
  },
  {
   "cell_type": "code",
   "execution_count": 3,
   "metadata": {},
   "outputs": [],
   "source": [
    "def random_maze(width = 10, height = 10,complexity=.8, density=.8):\n",
    "    # Only odd shapes\n",
    "    shape = ((height // 2) * 2 + 1, (width // 2) * 2 + 1)\n",
    "    # Adjust complexity and density relative to maze size\n",
    "    complexity = int(complexity * (5 * (shape[0] + shape[1])))\n",
    "    density    = int(density * ((shape[0] // 2) * (shape[1] // 2)))\n",
    "    # Build actual maze\n",
    "    M = np.ones(shape,int)\n",
    "    # Fill borders\n",
    "    M[0, :] = M[-1, :] = 0\n",
    "    M[:, 0] = M[:, -1] = 0\n",
    "    # Fill inside\n",
    "    for d in range(density):\n",
    "        x, y = np.random.randint(0, shape[0] // 2) * 2, np.random.randint(0, shape[1] // 2) * 2\n",
    "        M[x, y] = 0\n",
    "        for c in range(complexity):\n",
    "            neighbors = []\n",
    "            if x > 1:             neighbors.append((x - 2,y))\n",
    "            if x < shape[0] - 2:  neighbors.append((x + 2,y))\n",
    "            if y > 1:             neighbors.append((x,y - 2))\n",
    "            if y < shape[1] - 2:  neighbors.append((x,y + 2))\n",
    "            if len(neighbors):\n",
    "                x_,y_ = neighbors[np.random.choice(len(neighbors))]\n",
    "                if M[x_,y_] == 1:\n",
    "                    M[x_, y_] = 0\n",
    "                    M[x_ + (x - x_) // 2,y_ + (y - y_) // 2] = 0\n",
    "                    x, y = x_, y_\n",
    "    # Select start and end\n",
    "    x_free = list(np.where(M == 1)[0])\n",
    "    y_free = list(np.where(M == 1)[1])\n",
    "    i = np.random.choice(range(len(x_free)))\n",
    "    start = (x_free.pop(i),y_free.pop(i))\n",
    "    i = np.random.choice(range(len(x_free)))\n",
    "    end = (x_free.pop(i),y_free.pop(i))\n",
    "    return M,start,end"
   ]
  },
  {
   "cell_type": "code",
   "execution_count": 4,
   "metadata": {},
   "outputs": [],
   "source": [
    "M, start, end = random_maze(20,20)"
   ]
  },
  {
   "cell_type": "code",
   "execution_count": 5,
   "metadata": {},
   "outputs": [],
   "source": [
    "maze = sparse.csr_matrix(M)"
   ]
  },
  {
   "cell_type": "code",
   "execution_count": 6,
   "metadata": {},
   "outputs": [
    {
     "data": {
      "image/png": "[encoded data removed]",
      "text/plain": [
       "<Figure size 360x360 with 1 Axes>"
      ]
     },
     "metadata": {
      "needs_background": "light"
     },
     "output_type": "display_data"
    }
   ],
   "source": [
    "display_maze(maze, states_target=[start, end])"
   ]
  },
  {
   "cell_type": "code",
   "execution_count": null,
   "metadata": {},
   "outputs": [],
   "source": []
  }
 ],
 "metadata": {
  "hide_input": false,
  "kernelspec": {
   "display_name": "Python 3",
   "language": "python",
   "name": "python3"
  },
  "language_info": {
   "codemirror_mode": {
    "name": "ipython",
    "version": 3
   },
   "file_extension": ".py",
   "mimetype": "text/x-python",
   "name": "python",
   "nbconvert_exporter": "python",
   "pygments_lexer": "ipython3",
   "version": "3.7.3"
  }
 },
 "nbformat": 4,
 "nbformat_minor": 2
}
